{
 "cells": [
  {
   "cell_type": "code",
   "execution_count": 1,
   "metadata": {
    "collapsed": true
   },
   "outputs": [],
   "source": [
    "import pandas as pd\n",
    "import numpy as np"
   ]
  },
  {
   "cell_type": "code",
   "execution_count": 2,
   "metadata": {
    "collapsed": false
   },
   "outputs": [
    {
     "name": "stdout",
     "output_type": "stream",
     "text": [
      "       userId  movieId  rating  timestamp\n",
      "53677     388        6     5.0  946520615\n"
     ]
    }
   ],
   "source": [
    "df = pd.read_csv('ml-latest-small/ratings.csv')\n",
    "print df[(df['userId']==388) & (df['movieId']==6)]"
   ]
  },
  {
   "cell_type": "code",
   "execution_count": 3,
   "metadata": {
    "collapsed": true
   },
   "outputs": [],
   "source": [
    "users = df['userId'].unique()"
   ]
  },
  {
   "cell_type": "code",
   "execution_count": 4,
   "metadata": {
    "collapsed": true
   },
   "outputs": [],
   "source": [
    "movies = df['movieId'].unique()"
   ]
  },
  {
   "cell_type": "code",
   "execution_count": 6,
   "metadata": {
    "collapsed": false
   },
   "outputs": [],
   "source": [
    "target_user = 3\n",
    "ratings = df[df['userId'] == target_user]"
   ]
  },
  {
   "cell_type": "code",
   "execution_count": 9,
   "metadata": {
    "collapsed": false
   },
   "outputs": [],
   "source": [
    "def s(user1, user2):\n",
    "    global df\n",
    "    \n",
    "    movies_user1 = df[(df['userId'] == user1)]['movieId']\n",
    "    movies_user2 = df[(df['userId'] == user2)]['movieId']\n",
    "    \n",
    "    print movies_user1\n",
    "    print movies_user2\n",
    "    exit()\n",
    "    \n",
    "    # common_movies = [ for r1 in ratings_user1 for r2 in ratings_user2]\n",
    "    \n",
    "    #movies_that_both_users_rated = df[(df['userId'] == user1) & (df['userId'] == user2)]\n",
    "    #if len(movies_that_both_users_rated) == 0:\n",
    "    #    return 0\n",
    "    #ratings1 = df[]['rating']\n",
    "    #ratings2 = df[]['rating']"
   ]
  },
  {
   "cell_type": "code",
   "execution_count": null,
   "metadata": {
    "collapsed": false
   },
   "outputs": [
    {
     "name": "stdout",
     "output_type": "stream",
     "text": [
      "96        60\n",
      "97       110\n",
      "98       247\n",
      "99       267\n",
      "100      296\n",
      "101      318\n",
      "102      355\n",
      "103      356\n",
      "104      377\n",
      "105      527\n",
      "106      588\n",
      "107      592\n",
      "108      593\n",
      "109      595\n",
      "110      736\n",
      "111      778\n",
      "112      866\n",
      "113     1197\n",
      "114     1210\n",
      "115     1235\n",
      "116     1271\n",
      "117     1378\n",
      "118     1580\n",
      "119     1721\n",
      "120     1884\n",
      "121     2028\n",
      "122     2318\n",
      "123     2513\n",
      "124     2694\n",
      "125     2702\n",
      "126     2716\n",
      "127     2762\n",
      "128     2841\n",
      "129     2858\n",
      "130     2959\n",
      "131     3243\n",
      "132     3510\n",
      "133     3949\n",
      "134     5349\n",
      "135     5669\n",
      "136     6377\n",
      "137     7153\n",
      "138     7361\n",
      "139     8622\n",
      "140     8636\n",
      "141    27369\n",
      "142    44191\n",
      "143    48783\n",
      "144    50068\n",
      "145    58559\n",
      "146    84236\n",
      "Name: movieId, dtype: int64\n",
      "0       31\n",
      "1     1029\n",
      "2     1061\n",
      "3     1129\n",
      "4     1172\n",
      "5     1263\n",
      "6     1287\n",
      "7     1293\n",
      "8     1339\n",
      "9     1343\n",
      "10    1371\n",
      "11    1405\n",
      "12    1953\n",
      "13    2105\n",
      "14    2150\n",
      "15    2193\n",
      "16    2294\n",
      "17    2455\n",
      "18    2968\n",
      "19    3671\n",
      "Name: movieId, dtype: int64\n"
     ]
    },
    {
     "ename": "TypeError",
     "evalue": "Could not compare [None] with block values",
     "traceback": [
      "\u001b[0;31m---------------------------------------------------------------------------\u001b[0m",
      "\u001b[0;31mTypeError\u001b[0m                                 Traceback (most recent call last)",
      "\u001b[0;32m<ipython-input-10-e8a1b2df7d35>\u001b[0m in \u001b[0;36m<module>\u001b[0;34m()\u001b[0m\n\u001b[1;32m     14\u001b[0m         \u001b[0muser_rating\u001b[0m \u001b[0;34m=\u001b[0m \u001b[0mdf\u001b[0m\u001b[0;34m[\u001b[0m\u001b[0;34m(\u001b[0m\u001b[0mdf\u001b[0m\u001b[0;34m[\u001b[0m\u001b[0;34m'userId'\u001b[0m\u001b[0;34m]\u001b[0m\u001b[0;34m==\u001b[0m\u001b[0muser\u001b[0m\u001b[0;34m)\u001b[0m \u001b[0;34m&\u001b[0m \u001b[0;34m(\u001b[0m\u001b[0mdf\u001b[0m\u001b[0;34m[\u001b[0m\u001b[0;34m'movieId'\u001b[0m\u001b[0;34m]\u001b[0m \u001b[0;34m==\u001b[0m \u001b[0mmovie\u001b[0m\u001b[0;34m)\u001b[0m\u001b[0;34m]\u001b[0m\u001b[0;34m\u001b[0m\u001b[0m\n\u001b[1;32m     15\u001b[0m         \u001b[0mcurrent_user_average\u001b[0m \u001b[0;34m=\u001b[0m \u001b[0mnp\u001b[0m\u001b[0;34m.\u001b[0m\u001b[0maverage\u001b[0m\u001b[0;34m(\u001b[0m\u001b[0mdf\u001b[0m\u001b[0;34m[\u001b[0m\u001b[0;34m(\u001b[0m\u001b[0mdf\u001b[0m\u001b[0;34m[\u001b[0m\u001b[0;34m'userId'\u001b[0m\u001b[0;34m]\u001b[0m\u001b[0;34m==\u001b[0m\u001b[0muser\u001b[0m\u001b[0;34m)\u001b[0m\u001b[0;34m]\u001b[0m\u001b[0;34m[\u001b[0m\u001b[0;34m'rating'\u001b[0m\u001b[0;34m]\u001b[0m\u001b[0;34m)\u001b[0m\u001b[0;34m\u001b[0m\u001b[0m\n\u001b[0;32m---> 16\u001b[0;31m         \u001b[0msoma_numerador\u001b[0m \u001b[0;34m+=\u001b[0m \u001b[0;34m(\u001b[0m\u001b[0msim\u001b[0m \u001b[0;34m*\u001b[0m \u001b[0;34m(\u001b[0m\u001b[0muser_rating\u001b[0m \u001b[0;34m-\u001b[0m \u001b[0mcurrent_user_average\u001b[0m\u001b[0;34m)\u001b[0m\u001b[0;34m)\u001b[0m\u001b[0;34m\u001b[0m\u001b[0m\n\u001b[0m\u001b[1;32m     17\u001b[0m         \u001b[0msoma_denominador\u001b[0m \u001b[0;34m+=\u001b[0m \u001b[0mabs\u001b[0m\u001b[0;34m(\u001b[0m\u001b[0msim\u001b[0m\u001b[0;34m)\u001b[0m\u001b[0;34m\u001b[0m\u001b[0m\n\u001b[1;32m     18\u001b[0m \u001b[0;34m\u001b[0m\u001b[0m\n",
      "\u001b[0;32m/home/ralph/anaconda2/lib/python2.7/site-packages/pandas/core/ops.pyc\u001b[0m in \u001b[0;36mf\u001b[0;34m(self, other, axis, level, fill_value)\u001b[0m\n\u001b[1;32m   1095\u001b[0m                 \u001b[0mself\u001b[0m \u001b[0;34m=\u001b[0m \u001b[0mself\u001b[0m\u001b[0;34m.\u001b[0m\u001b[0mfillna\u001b[0m\u001b[0;34m(\u001b[0m\u001b[0mfill_value\u001b[0m\u001b[0;34m)\u001b[0m\u001b[0;34m\u001b[0m\u001b[0m\n\u001b[1;32m   1096\u001b[0m \u001b[0;34m\u001b[0m\u001b[0m\n\u001b[0;32m-> 1097\u001b[0;31m             \u001b[0;32mreturn\u001b[0m \u001b[0mself\u001b[0m\u001b[0;34m.\u001b[0m\u001b[0m_combine_const\u001b[0m\u001b[0;34m(\u001b[0m\u001b[0mother\u001b[0m\u001b[0;34m,\u001b[0m \u001b[0mna_op\u001b[0m\u001b[0;34m)\u001b[0m\u001b[0;34m\u001b[0m\u001b[0m\n\u001b[0m\u001b[1;32m   1098\u001b[0m \u001b[0;34m\u001b[0m\u001b[0m\n\u001b[1;32m   1099\u001b[0m     \u001b[0mf\u001b[0m\u001b[0;34m.\u001b[0m\u001b[0m__name__\u001b[0m \u001b[0;34m=\u001b[0m \u001b[0mname\u001b[0m\u001b[0;34m\u001b[0m\u001b[0m\n",
      "\u001b[0;32m/home/ralph/anaconda2/lib/python2.7/site-packages/pandas/core/frame.pyc\u001b[0m in \u001b[0;36m_combine_const\u001b[0;34m(self, other, func, raise_on_error)\u001b[0m\n\u001b[1;32m   3553\u001b[0m \u001b[0;34m\u001b[0m\u001b[0m\n\u001b[1;32m   3554\u001b[0m         new_data = self._data.eval(func=func, other=other,\n\u001b[0;32m-> 3555\u001b[0;31m                                    raise_on_error=raise_on_error)\n\u001b[0m\u001b[1;32m   3556\u001b[0m         \u001b[0;32mreturn\u001b[0m \u001b[0mself\u001b[0m\u001b[0;34m.\u001b[0m\u001b[0m_constructor\u001b[0m\u001b[0;34m(\u001b[0m\u001b[0mnew_data\u001b[0m\u001b[0;34m)\u001b[0m\u001b[0;34m\u001b[0m\u001b[0m\n\u001b[1;32m   3557\u001b[0m \u001b[0;34m\u001b[0m\u001b[0m\n",
      "\u001b[0;32m/home/ralph/anaconda2/lib/python2.7/site-packages/pandas/core/internals.pyc\u001b[0m in \u001b[0;36meval\u001b[0;34m(self, **kwargs)\u001b[0m\n\u001b[1;32m   2909\u001b[0m \u001b[0;34m\u001b[0m\u001b[0m\n\u001b[1;32m   2910\u001b[0m     \u001b[0;32mdef\u001b[0m \u001b[0meval\u001b[0m\u001b[0;34m(\u001b[0m\u001b[0mself\u001b[0m\u001b[0;34m,\u001b[0m \u001b[0;34m**\u001b[0m\u001b[0mkwargs\u001b[0m\u001b[0;34m)\u001b[0m\u001b[0;34m:\u001b[0m\u001b[0;34m\u001b[0m\u001b[0m\n\u001b[0;32m-> 2911\u001b[0;31m         \u001b[0;32mreturn\u001b[0m \u001b[0mself\u001b[0m\u001b[0;34m.\u001b[0m\u001b[0mapply\u001b[0m\u001b[0;34m(\u001b[0m\u001b[0;34m'eval'\u001b[0m\u001b[0;34m,\u001b[0m \u001b[0;34m**\u001b[0m\u001b[0mkwargs\u001b[0m\u001b[0;34m)\u001b[0m\u001b[0;34m\u001b[0m\u001b[0m\n\u001b[0m\u001b[1;32m   2912\u001b[0m \u001b[0;34m\u001b[0m\u001b[0m\n\u001b[1;32m   2913\u001b[0m     \u001b[0;32mdef\u001b[0m \u001b[0mquantile\u001b[0m\u001b[0;34m(\u001b[0m\u001b[0mself\u001b[0m\u001b[0;34m,\u001b[0m \u001b[0;34m**\u001b[0m\u001b[0mkwargs\u001b[0m\u001b[0;34m)\u001b[0m\u001b[0;34m:\u001b[0m\u001b[0;34m\u001b[0m\u001b[0m\n",
      "\u001b[0;32m/home/ralph/anaconda2/lib/python2.7/site-packages/pandas/core/internals.pyc\u001b[0m in \u001b[0;36mapply\u001b[0;34m(self, f, axes, filter, do_integrity_check, consolidate, raw, **kwargs)\u001b[0m\n\u001b[1;32m   2888\u001b[0m \u001b[0;34m\u001b[0m\u001b[0m\n\u001b[1;32m   2889\u001b[0m             \u001b[0mkwargs\u001b[0m\u001b[0;34m[\u001b[0m\u001b[0;34m'mgr'\u001b[0m\u001b[0;34m]\u001b[0m \u001b[0;34m=\u001b[0m \u001b[0mself\u001b[0m\u001b[0;34m\u001b[0m\u001b[0m\n\u001b[0;32m-> 2890\u001b[0;31m             \u001b[0mapplied\u001b[0m \u001b[0;34m=\u001b[0m \u001b[0mgetattr\u001b[0m\u001b[0;34m(\u001b[0m\u001b[0mb\u001b[0m\u001b[0;34m,\u001b[0m \u001b[0mf\u001b[0m\u001b[0;34m)\u001b[0m\u001b[0;34m(\u001b[0m\u001b[0;34m**\u001b[0m\u001b[0mkwargs\u001b[0m\u001b[0;34m)\u001b[0m\u001b[0;34m\u001b[0m\u001b[0m\n\u001b[0m\u001b[1;32m   2891\u001b[0m             \u001b[0mresult_blocks\u001b[0m \u001b[0;34m=\u001b[0m \u001b[0m_extend_blocks\u001b[0m\u001b[0;34m(\u001b[0m\u001b[0mapplied\u001b[0m\u001b[0;34m,\u001b[0m \u001b[0mresult_blocks\u001b[0m\u001b[0;34m)\u001b[0m\u001b[0;34m\u001b[0m\u001b[0m\n\u001b[1;32m   2892\u001b[0m \u001b[0;34m\u001b[0m\u001b[0m\n",
      "\u001b[0;32m/home/ralph/anaconda2/lib/python2.7/site-packages/pandas/core/internals.pyc\u001b[0m in \u001b[0;36meval\u001b[0;34m(self, func, other, raise_on_error, try_cast, mgr)\u001b[0m\n\u001b[1;32m   1151\u001b[0m \u001b[0;34m\u001b[0m\u001b[0m\n\u001b[1;32m   1152\u001b[0m                 raise TypeError('Could not compare [%s] with block values' %\n\u001b[0;32m-> 1153\u001b[0;31m                                 repr(other))\n\u001b[0m\u001b[1;32m   1154\u001b[0m \u001b[0;34m\u001b[0m\u001b[0m\n\u001b[1;32m   1155\u001b[0m         \u001b[0;31m# transpose if needed\u001b[0m\u001b[0;34m\u001b[0m\u001b[0;34m\u001b[0m\u001b[0m\n",
      "\u001b[0;31mTypeError\u001b[0m: Could not compare [None] with block values"
     ],
     "output_type": "error"
    }
   ],
   "source": [
    "predictions = []\n",
    "user_average = np.average(ratings['rating'])\n",
    "for movie in movies:\n",
    "    users_that_rate_this_movie = df[df['movieId'] == movie]\n",
    "    soma_numerador = 0\n",
    "    soma_denominador = 0\n",
    "    \n",
    "    # print users_that_rate_this_movie['userId']\n",
    "    \n",
    "    for user in users_that_rate_this_movie['userId']:\n",
    "        sim = s(target_user, user)\n",
    "        if sim == 0:\n",
    "            continue\n",
    "        user_rating = df[(df['userId']==user) & (df['movieId'] == movie)]\n",
    "        current_user_average = np.average(df[(df['userId']==user)]['rating'])\n",
    "        soma_numerador += (sim * (user_rating - current_user_average))         \n",
    "        soma_denominador += abs(sim)\n",
    "    \n",
    "    if soma_denominador == 0:\n",
    "        continue\n",
    "        \n",
    "    predictions.append(user_average + soma_numerador/soma_denominador)\n",
    "    break"
   ]
  },
  {
   "cell_type": "code",
   "execution_count": 15,
   "metadata": {
    "collapsed": false
   },
   "outputs": [
    {
     "name": "stdout",
     "output_type": "stream",
     "text": [
      "       userId  movieId  rating   timestamp\n",
      "53677     388        6     5.0   946520615\n",
      "53692     388       47     5.0   946522753\n",
      "53694     388       50     5.0   946522650\n",
      "53697     388       72     5.0   946523596\n",
      "53704     388      110     5.0   946509960\n",
      "53705     388      111     5.0   946525718\n",
      "53710     388      150     4.5  1097625220\n",
      "53711     388      159     4.5  1053316150\n",
      "53722     388      231     5.0   946524061\n",
      "53724     388      246     5.0   946524879\n",
      "53727     388      260     4.5  1097625248\n",
      "53733     388      296     5.0   946522591\n",
      "53735     388      318     5.0   946525738\n",
      "53743     388      349     5.0   946520805\n",
      "53761     388      457     5.0   946534256\n",
      "53772     388      508     5.0   965182563\n",
      "53776     388      527     5.0   946509889\n",
      "53781     388      541     5.0   946530195\n",
      "53788     388      590     5.0   946509773\n",
      "53792     388      608     5.0   946522591\n",
      "53799     388      759     5.0   946524906\n",
      "53800     388      778     5.0   946527213\n",
      "53804     388      787     5.0   946524879\n",
      "53807     388      850     5.0   946529237\n",
      "53809     388      858     5.0   973840591\n",
      "53816     388      924     5.0   946526494\n",
      "53820     388     1025     5.0   946522125\n",
      "53823     388     1036     5.0   946520592\n",
      "53824     388     1060     5.0   946523166\n",
      "53825     388     1073     5.0  1097625360\n",
      "...       ...      ...     ...         ...\n",
      "54331     388     5670     4.5  1056995673\n",
      "54338     388     5902     4.5  1053316058\n",
      "54340     388     5952     4.5  1072682165\n",
      "54342     388     5989     4.5  1056497014\n",
      "54343     388     5995     5.0  1042505680\n",
      "54345     388     6101     4.5  1114898046\n",
      "54358     388     6440     5.0  1056496966\n",
      "54360     388     6552     4.5  1061792831\n",
      "54363     388     6620     4.5  1062884732\n",
      "54366     388     6711     4.5  1065414859\n",
      "54369     388     6773     4.5  1085989847\n",
      "54378     388     6932     4.5  1069317196\n",
      "54380     388     6947     4.5  1070755624\n",
      "54384     388     6979     4.5  1114896953\n",
      "54385     388     7025     4.5  1114898388\n",
      "54399     388     8207     5.0  1114896939\n",
      "54407     388     8636     4.5  1090183696\n",
      "54417     388     8949     5.0  1100381747\n",
      "54419     388    26729     4.5  1177872304\n",
      "54420     388    27721     4.5  1104821581\n",
      "54432     388    33794     4.5  1119458306\n",
      "54434     388    34162     4.5  1122278619\n",
      "54435     388    35836     4.5  1154228523\n",
      "54438     388    37741     4.5  1141434683\n",
      "54440     388    38886     4.5  1134863972\n",
      "54445     388    41997     4.5  1135725076\n",
      "54446     388    42418     4.5  1137969678\n",
      "54448     388    44555     4.5  1229027041\n",
      "54459     388    50872     4.5  1198964476\n",
      "54462     388    53894     4.5  1187550165\n",
      "\n",
      "[179 rows x 4 columns]\n"
     ]
    }
   ],
   "source": [
    "print ratings[ratings['rating'] > 4]"
   ]
  },
  {
   "cell_type": "code",
   "execution_count": null,
   "metadata": {
    "collapsed": true
   },
   "outputs": [],
   "source": [
    ""
   ]
  }
 ],
 "metadata": {
  "anaconda-cloud": {},
  "kernelspec": {
   "display_name": "Python [conda root]",
   "language": "python",
   "name": "conda-root-py"
  },
  "language_info": {
   "codemirror_mode": {
    "name": "ipython",
    "version": 2.0
   },
   "file_extension": ".py",
   "mimetype": "text/x-python",
   "name": "python",
   "nbconvert_exporter": "python",
   "pygments_lexer": "ipython2",
   "version": "2.7.12"
  }
 },
 "nbformat": 4,
 "nbformat_minor": 0
}