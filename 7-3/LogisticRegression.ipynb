{
 "cells": [
  {
   "cell_type": "code",
   "execution_count": 119,
   "metadata": {
    "collapsed": true
   },
   "outputs": [],
   "source": [
    "from sklearn.linear_model import LogisticRegression\n",
    "from sklearn.neighbors import KNeighborsClassifier"
   ]
  },
  {
   "cell_type": "code",
   "execution_count": 120,
   "metadata": {
    "collapsed": true
   },
   "outputs": [],
   "source": [
    "lr = LogisticRegression()\n",
    "knn = KNeighborsClassifier()"
   ]
  },
  {
   "cell_type": "code",
   "execution_count": 23,
   "metadata": {
    "collapsed": false
   },
   "outputs": [
    {
     "name": "stdout",
     "output_type": "stream",
     "text": [
      "   sepal_length  sepal_width  petal_length  petal_width        class\n",
      "0           4.9          3.0           1.4          0.2  Iris-setosa\n",
      "1           4.7          3.2           1.3          0.2  Iris-setosa\n",
      "2           4.6          3.1           1.5          0.2  Iris-setosa\n",
      "3           5.0          3.6           1.4          0.2  Iris-setosa\n",
      "4           5.4          3.9           1.7          0.4  Iris-setosa\n"
     ]
    }
   ],
   "source": [
    "import pandas as pd\n",
    "df = pd.read_csv('iris.data')\n",
    "df.columns = ['sepal_length', 'sepal_width', 'petal_length', 'petal_width', 'class']\n",
    "print df.head()"
   ]
  },
  {
   "cell_type": "code",
   "execution_count": 25,
   "metadata": {
    "collapsed": false
   },
   "outputs": [
    {
     "data": {
      "text/plain": [
       "0    0\n",
       "1    0\n",
       "2    0\n",
       "3    0\n",
       "4    0\n",
       "Name: class, dtype: int8"
      ]
     },
     "execution_count": 25,
     "metadata": {},
     "output_type": "execute_result"
    }
   ],
   "source": [
    "from sklearn.cross_validation import train_test_split\n",
    "X = df.iloc[:, :4]\n",
    "\n",
    "df.iloc[:, 4] = df.iloc[:, 4].astype('category')\n",
    "cats = df.select_dtypes(['category']).columns\n",
    "df[cats] = df[cats].apply(lambda x: x.cat.codes)\n",
    "y = df.iloc[:, 4]\n",
    "y.head()"
   ]
  },
  {
   "cell_type": "code",
   "execution_count": 145,
   "metadata": {
    "collapsed": false
   },
   "outputs": [],
   "source": [
    "list_acc = []\n",
    "list_acc_knn = []\n",
    "indices = range(1, 7)\n",
    "\n",
    "for i in range(1, 7):\n",
    "    X_tr, X_te, Y_tr, Y_te = train_test_split(X, y, test_size=i/10., random_state=4)\n",
    "    \n",
    "    lr.fit(X_tr, Y_tr)\n",
    "    knn.fit(X_tr, Y_tr)\n",
    "    \n",
    "    preds = lr.predict(X_te)\n",
    "    preds_knn = knn.predict(X_te)\n",
    "    \n",
    "    acc = sum([int(p==r) for p, r in zip(preds, Y_te)]) / float(len(preds))\n",
    "    acc_knn = sum([int(p==r) for p, r in zip(preds_knn, Y_te)]) / float(len(preds))\n",
    "    \n",
    "    list_acc.append(acc)\n",
    "    list_acc_knn.append(acc_knn)"
   ]
  },
  {
   "cell_type": "code",
   "execution_count": 146,
   "metadata": {
    "collapsed": false
   },
   "outputs": [
    {
     "data": {
      "image/png": "[encoded data removed]",
      "text/plain": [
       "<matplotlib.figure.Figure at 0x7efef92c7b90>"
      ]
     },
     "metadata": {},
     "output_type": "display_data"
    }
   ],
   "source": [
    "import matplotlib.pyplot as plt\n",
    "plt.plot(indices, list_acc, 'red', indices, list_acc_knn, 'blue')\n",
    "plt.show()"
   ]
  },
  {
   "cell_type": "code",
   "execution_count": 90,
   "metadata": {
    "collapsed": false
   },
   "outputs": [],
   "source": []
  },
  {
   "cell_type": "code",
   "execution_count": 91,
   "metadata": {
    "collapsed": false
   },
   "outputs": [
    {
     "data": {
      "text/plain": [
       "0.8"
      ]
     },
     "execution_count": 91,
     "metadata": {},
     "output_type": "execute_result"
    }
   ],
   "source": []
  },
  {
   "cell_type": "code",
   "execution_count": null,
   "metadata": {
    "collapsed": true
   },
   "outputs": [],
   "source": []
  }
 ],
 "metadata": {
  "anaconda-cloud": {},
  "kernelspec": {
   "display_name": "Python [conda root]",
   "language": "python",
   "name": "conda-root-py"
  },
  "language_info": {
   "codemirror_mode": {
    "name": "ipython",
    "version": 2
   },
   "file_extension": ".py",
   "mimetype": "text/x-python",
   "name": "python",
   "nbconvert_exporter": "python",
   "pygments_lexer": "ipython2",
   "version": "2.7.12"
  }
 },
 "nbformat": 4,
 "nbformat_minor": 1
}
