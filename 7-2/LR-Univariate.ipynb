{
 "cells": [
  {
   "cell_type": "code",
   "execution_count": 2,
   "metadata": {
    "collapsed": false
   },
   "outputs": [],
   "source": [
    "import pandas as pd\n",
    "df = pd.read_csv('ex1data1.csv')"
   ]
  },
  {
   "cell_type": "code",
   "execution_count": 450,
   "metadata": {
    "collapsed": false
   },
   "outputs": [
    {
     "name": "stdout",
     "output_type": "stream",
     "text": [
      "0.775722656121 0.815286974128\n"
     ]
    }
   ],
   "source": [
    "import random\n",
    "T0 = random.random()\n",
    "T1 = random.random()\n",
    "print T0, T1"
   ]
  },
  {
   "cell_type": "code",
   "execution_count": 281,
   "metadata": {
    "collapsed": false
   },
   "outputs": [],
   "source": [
    "treino = df[:len(df)/2]\n",
    "teste = df[len(df)/2:]\n",
    "treino_x = treino.iloc[:, 0]\n",
    "treino_y = treino.iloc[:, 1]\n",
    "teste_x = teste.iloc[:, 0]\n",
    "teste_y = teste.iloc[:, 1]"
   ]
  },
  {
   "cell_type": "code",
   "execution_count": 282,
   "metadata": {
    "collapsed": true
   },
   "outputs": [],
   "source": [
    "def hx(T0, T1, x):\n",
    "    return T0 + T1 * x"
   ]
  },
  {
   "cell_type": "code",
   "execution_count": 471,
   "metadata": {
    "collapsed": false
   },
   "outputs": [],
   "source": [
    "custo = sum([hx(T0, T1, x) - y for x, y in zip(treino_x, treino_y)]) * 1/(2*len(treino_x))"
   ]
  },
  {
   "cell_type": "code",
   "execution_count": 472,
   "metadata": {
    "collapsed": false
   },
   "outputs": [
    {
     "name": "stdout",
     "output_type": "stream",
     "text": [
      "0.123611023848\n"
     ]
    }
   ],
   "source": [
    "print custo"
   ]
  },
  {
   "cell_type": "code",
   "execution_count": 473,
   "metadata": {
    "collapsed": true
   },
   "outputs": [],
   "source": [
    "_alpha = 0.00001\n",
    "\n",
    "temp_T0 = T0 - _alpha * 1/len(treino) * sum([hx(T0, T1, x) - y for x, y in zip(treino_x, treino_y)])\n",
    "temp_T1 = T1 - _alpha * 1/len(treino) * sum([(hx(T0, T1, x) - y) * x for x, y in zip(treino_x, treino_y)])\n",
    "T0 = temp_T0\n",
    "T1 = temp_T1"
   ]
  },
  {
   "cell_type": "code",
   "execution_count": 474,
   "metadata": {
    "collapsed": true
   },
   "outputs": [],
   "source": [
    "erro = sum([(hx(T0, T1, x) - y)**2 for x, t in zip(teste_x, teste_y)]) / float(len(teste_x))"
   ]
  },
  {
   "cell_type": "code",
   "execution_count": 475,
   "metadata": {
    "collapsed": false
   },
   "outputs": [
    {
     "name": "stdout",
     "output_type": "stream",
     "text": [
      "40.5292239672\n"
     ]
    }
   ],
   "source": [
    "print erro"
   ]
  },
  {
   "cell_type": "code",
   "execution_count": null,
   "metadata": {
    "collapsed": true
   },
   "outputs": [],
   "source": []
  }
 ],
 "metadata": {
  "anaconda-cloud": {},
  "kernelspec": {
   "display_name": "Python [conda root]",
   "language": "python",
   "name": "conda-root-py"
  },
  "language_info": {
   "codemirror_mode": {
    "name": "ipython",
    "version": 2
   },
   "file_extension": ".py",
   "mimetype": "text/x-python",
   "name": "python",
   "nbconvert_exporter": "python",
   "pygments_lexer": "ipython2",
   "version": "2.7.12"
  }
 },
 "nbformat": 4,
 "nbformat_minor": 1
}
