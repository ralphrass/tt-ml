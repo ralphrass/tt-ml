{
 "cells": [
  {
   "cell_type": "code",
   "execution_count": 6,
   "metadata": {
    "collapsed": false
   },
   "outputs": [],
   "source": [
    "import random\n",
    "import pandas as pd\n",
    "import matplotlib.pyplot as plt"
   ]
  },
  {
   "cell_type": "code",
   "execution_count": 7,
   "metadata": {
    "collapsed": true
   },
   "outputs": [],
   "source": [
    "def inicializarParametros():\n",
    "    \n",
    "    a = random.random()\n",
    "    b = random.random()\n",
    "    \n",
    "    return a,b"
   ]
  },
  {
   "cell_type": "code",
   "execution_count": 34,
   "metadata": {
    "collapsed": true
   },
   "outputs": [],
   "source": [
    "def calcularCusto():\n",
    "    \n",
    "    return"
   ]
  },
  {
   "cell_type": "code",
   "execution_count": 148,
   "metadata": {
    "collapsed": false
   },
   "outputs": [
    {
     "name": "stdout",
     "output_type": "stream",
     "text": [
      "0.976336582028 0.984662786913\n"
     ]
    }
   ],
   "source": [
    "T0, T1 = inicializarParametros()\n",
    "ALFA = 0.0001\n",
    "print T0, T1"
   ]
  },
  {
   "cell_type": "code",
   "execution_count": 149,
   "metadata": {
    "collapsed": true
   },
   "outputs": [],
   "source": [
    "df = pd.read_csv('ex1data1.csv')"
   ]
  },
  {
   "cell_type": "code",
   "execution_count": 150,
   "metadata": {
    "collapsed": false
   },
   "outputs": [],
   "source": [
    "X = df.iloc[:, 0]\n",
    "y = df.iloc[:, 1]\n",
    "\n",
    "X_treino = X[:len(X)/2]\n",
    "y_treino = y[:len(X)/2]\n",
    "\n",
    "X_teste = X[len(X)/2:len(X)]\n",
    "y_teste = y[len(X)/2:len(X)]"
   ]
  },
  {
   "cell_type": "code",
   "execution_count": 151,
   "metadata": {
    "collapsed": false
   },
   "outputs": [
    {
     "name": "stdout",
     "output_type": "stream",
     "text": [
      "17531.6043776\n"
     ]
    }
   ],
   "source": [
    "custo_instancia = 0\n",
    "\n",
    "preds = [T0 + T1 * valor for valor in X_treino]\n",
    "custo_instancia = sum([(pi - yi)**2 for pi, yi in (zip(preds, y_treino))])\n",
    "\n",
    "# for indice, valor in X_treino.iteritems():\n",
    "#     prd = T0 + T1 * valor\n",
    "#     dif = prd - y_treino[indice]\n",
    "#     custo_instancia += (dif)**2\n",
    "\n",
    "custo = (1./2.*len(X_treino)) * custo_instancia\n",
    "print custo"
   ]
  },
  {
   "cell_type": "code",
   "execution_count": 152,
   "metadata": {
    "collapsed": false
   },
   "outputs": [
    {
     "name": "stdout",
     "output_type": "stream",
     "text": [
      "4.50299095193\n"
     ]
    }
   ],
   "source": [
    "preds_teste = [T0 + T1 * valor for valor in X_teste]\n",
    "diff = sum([abs(p - r) for p, r in zip(preds_teste, y_teste)])/float(len(y_teste))\n",
    "print diff"
   ]
  },
  {
   "cell_type": "code",
   "execution_count": 153,
   "metadata": {
    "collapsed": false
   },
   "outputs": [
    {
     "name": "stdout",
     "output_type": "stream",
     "text": [
      "0.97481474137 0.973758830361\n"
     ]
    }
   ],
   "source": [
    "T0 = T0 - ALFA * ((1./len(X_treino)) * custo_instancia)\n",
    "T1 = T1 - ALFA * ((1./len(X_treino)) * sum([(pi - yi)**2 * xi for pi, yi, xi in (zip(preds, y_treino, X_treino))]))\n",
    "print T0, T1"
   ]
  },
  {
   "cell_type": "code",
   "execution_count": 154,
   "metadata": {
    "collapsed": false
   },
   "outputs": [
    {
     "name": "stdout",
     "output_type": "stream",
     "text": [
      "4.4239371862\n"
     ]
    }
   ],
   "source": [
    "preds_teste = [T0 + T1 * valor for valor in X_teste]\n",
    "diff = sum([abs(p - r) for p, r in zip(preds_teste, y_teste)])/float(len(y_teste))\n",
    "print diff"
   ]
  },
  {
   "cell_type": "code",
   "execution_count": 155,
   "metadata": {
    "collapsed": false
   },
   "outputs": [
    {
     "name": "stdout",
     "output_type": "stream",
     "text": [
      "17259.9991659\n"
     ]
    }
   ],
   "source": [
    "custo_instancia = 0\n",
    "\n",
    "preds = [T0 + T1 * valor for valor in X_treino]\n",
    "custo_instancia = sum([(pi - yi)**2 for pi, yi in (zip(preds, y_treino))])\n",
    "\n",
    "# for indice, valor in X_treino.iteritems():\n",
    "#     prd = T0 + T1 * valor\n",
    "#     dif = prd - y_treino[indice]\n",
    "#     custo_instancia += (dif)**2\n",
    "\n",
    "custo = (1./2.*len(X_treino)) * custo_instancia\n",
    "print custo"
   ]
  },
  {
   "cell_type": "code",
   "execution_count": 125,
   "metadata": {
    "collapsed": false
   },
   "outputs": [
    {
     "name": "stdout",
     "output_type": "stream",
     "text": [
      "-921.341608838 -11861.3243427\n"
     ]
    }
   ],
   "source": [
    "T0 = T0 - ALFA * ((1./len(X_treino)) * custo_instancia)\n",
    "T1 = T1 - ALFA * ((1./len(X_treino)) * sum([(pi - yi)**2 * xi for pi, yi, xi in (zip(preds, y_treino, X_treino))]))\n",
    "print T0, T1"
   ]
  },
  {
   "cell_type": "code",
   "execution_count": null,
   "metadata": {
    "collapsed": true
   },
   "outputs": [],
   "source": [
    ""
   ]
  }
 ],
 "metadata": {
  "anaconda-cloud": {},
  "kernelspec": {
   "display_name": "Python [conda root]",
   "language": "python",
   "name": "conda-root-py"
  },
  "language_info": {
   "codemirror_mode": {
    "name": "ipython",
    "version": 2.0
   },
   "file_extension": ".py",
   "mimetype": "text/x-python",
   "name": "python",
   "nbconvert_exporter": "python",
   "pygments_lexer": "ipython2",
   "version": "2.7.12"
  }
 },
 "nbformat": 4,
 "nbformat_minor": 0
}