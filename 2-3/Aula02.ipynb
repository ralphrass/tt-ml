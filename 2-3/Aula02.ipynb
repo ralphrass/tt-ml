{
 "cells": [
  {
   "cell_type": "code",
   "execution_count": 50,
   "metadata": {
    "collapsed": false
   },
   "outputs": [
    {
     "data": {
      "image/png": "[encoded data removed]",
      "text/plain": [
       "<matplotlib.figure.Figure at 0x7f86cbf15d50>"
      ]
     },
     "metadata": {},
     "output_type": "display_data"
    }
   ],
   "source": [
    "import matplotlib.pyplot as plt\n",
    "import numpy as np\n",
    "import pandas as pd\n",
    "import scipy.stats as stats\n",
    "\n",
    "df = pd.read_csv(\"pesos_alturas_english.csv\")\n",
    "df.columns = ['altura', 'peso']\n",
    "\n",
    "# print df\n",
    "\n",
    "# plt.boxplot(df['altura'])\n",
    "# plt.show()\n",
    "\n",
    "plt.scatter(df['altura'], df['peso'])\n",
    "\n",
    "x = df['altura'].sort_values()\n",
    "plt.show()\n",
    "\n",
    "# plt.show()"
   ]
  },
  {
   "cell_type": "code",
   "execution_count": 8,
   "metadata": {
    "collapsed": false
   },
   "outputs": [
    {
     "name": "stdout",
     "output_type": "stream",
     "text": [
      "{0: [], 1: [], 2: []}\n",
      "{0: [0, 1, 2, 2, 6, 6, 7], 1: [8, 9, 10, 10, 10, 13], 2: [18, 20, 21, 21, 25]}\n"
     ]
    }
   ],
   "source": [
    "a = [25, 10, 0, 21, 10, 1, 21, 2, 6, 9, 10, 13, 6, 20, 18, 2, 8, 7]\n",
    "a.sort()\n",
    "_nr_grupos = 3\n",
    "\n",
    "largura = a[len(a)-1] / _nr_grupos\n",
    "\n",
    "grupos = {x: [] for x in range(0, _nr_grupos)}\n",
    "\n",
    "for value in a:\n",
    "    if value < largura:\n",
    "        grupos[0].append(value)\n",
    "    elif value < largura*2:\n",
    "        grupos[1].append(value)\n",
    "    else:\n",
    "        grupos[2].append(value)\n",
    "\n",
    "print grupos"
   ]
  },
  {
   "cell_type": "code",
   "execution_count": 14,
   "metadata": {
    "collapsed": false
   },
   "outputs": [
    {
     "name": "stdout",
     "output_type": "stream",
     "text": [
      "6\n",
      "{0: [0, 1, 2, 2, 6, 6], 1: [7, 8, 9, 10, 10, 10], 2: [13, 18, 20, 21, 21, 25]}\n"
     ]
    }
   ],
   "source": [
    "grupos = {x: [] for x in range(0, _nr_grupos)}\n",
    "_limite = len(a) / _nr_grupos\n",
    "print _limite\n",
    "\n",
    "for value in a:\n",
    "    for g in grupos:\n",
    "        if len(grupos[g]) < _limite:\n",
    "            grupos[g].append(value)\n",
    "            break\n",
    "\n",
    "print grupos"
   ]
  },
  {
   "cell_type": "code",
   "execution_count": 18,
   "metadata": {
    "collapsed": false
   },
   "outputs": [
    {
     "data": {
      "text/plain": [
       "-0.5849625007211563"
      ]
     },
     "execution_count": 18,
     "metadata": {},
     "output_type": "execute_result"
    }
   ],
   "source": [
    "import numpy as np\n",
    "np.log2(2/3.)"
   ]
  },
  {
   "cell_type": "code",
   "execution_count": 24,
   "metadata": {
    "collapsed": false
   },
   "outputs": [
    {
     "name": "stdout",
     "output_type": "stream",
     "text": [
      "           ID                            LOG1                      LOG2  \\\n",
      "0      368012    ESTR JOAO DE OLIVEIRA REMIAO                       NaN   \n",
      "1      368013      ESTR JOAO ANTONIO SILVEIRA                       NaN   \n",
      "2      368028             AV ANTONIO CARVALHO                       NaN   \n",
      "3      368318              AV BENTO GONCALVES                       NaN   \n",
      "4      368029                         AV CHUI                       NaN   \n",
      "5      368030                 AV ASSIS BRASIL                       NaN   \n",
      "6      368319              R GUILHERME SCHELL                       NaN   \n",
      "7      368213                 AV ASSIS BRASIL          R DOMINGOS RUBBO   \n",
      "8      368031             AV ANTONIO CARVALHO                       NaN   \n",
      "9      368320               AV PROTASIO ALVES                       NaN   \n",
      "10     368032                 AV ASSIS BRASIL                       NaN   \n",
      "11     368033                       AV GOETHE                       NaN   \n",
      "12     368315               R ANITA GARIBALDI           AV CARLOS GOMES   \n",
      "13     368219                     AV IPIRANGA         R RAMIRO BARCELOS   \n",
      "14     368088                 AV DA CAVALHADA                       NaN   \n",
      "15     368321           R DOMINGOS CRESCENCIO                R SAO LUIZ   \n",
      "16     368035        R CAPITAO CARLOS LAMARCA                       NaN   \n",
      "17     368036                 ESTR COSTA GAMA                       NaN   \n",
      "18     368314           AV JULIO DE CASTILHOS                       NaN   \n",
      "19     368037                         R CAIRU                       NaN   \n",
      "20     368108                 AV JUCA BATISTA               R DR PITREZ   \n",
      "21     368038            AV CRISTOVAO COLOMBO                       NaN   \n",
      "22     368014                     AV FARRAPOS                       NaN   \n",
      "23     368015              AV BENTO GONCALVES                       NaN   \n",
      "24     368313                     AV FARRAPOS                 AV BRASIL   \n",
      "25     368297        AV CEL LUCAS DE OLIVEIRA                       NaN   \n",
      "26     368016              R SEIS DE NOVEMBRO                       NaN   \n",
      "27     368214               AV PROTASIO ALVES     AV MARTIM FELIX BERTA   \n",
      "28     368308               AV PINHEIRO BORDA                       NaN   \n",
      "29     368856    ESTR JOAO DE OLIVEIRA REMIAO                       NaN   \n",
      "...       ...                             ...                       ...   \n",
      "20728  390265              R GEN LIMA E SILVA                       NaN   \n",
      "20729  390332                     AV SERTORIO     AV GEN RAPHAEL ZIPPIN   \n",
      "20730  390291                  R PADRE CHAGAS         R HILARIO RIBEIRO   \n",
      "20731  390266                AV EDUARDO PRADO                       NaN   \n",
      "20732  390296           R DOMINGOS CRESCENCIO            R GOMES JARDIM   \n",
      "20733  390267              AV BENTO GONCALVES                       NaN   \n",
      "20734  390268                     AV FARRAPOS                       NaN   \n",
      "20735  390297              AV BENTO GONCALVES                       NaN   \n",
      "20736  390269                 ESTR COSTA GAMA                       NaN   \n",
      "20737  390396                      R BOTAFOGO          R GONCALVES DIAS   \n",
      "20738  390322            AV CRISTOVAO COLOMBO  R VISCONDE DO RIO BRANCO   \n",
      "20739  390272                AV EDUARDO PRADO                       NaN   \n",
      "20740  390271                 PCA RUI BARBOSA                       NaN   \n",
      "20741  390333                 AV ASSIS BRASIL          R DOMINGOS RUBBO   \n",
      "20742  390317                  AV JOAO PESSOA                       NaN   \n",
      "20743  390274               AV PROTASIO ALVES                       NaN   \n",
      "20744  390323                     AV SERTORIO                  AV POLAR   \n",
      "20745  390298        R JORGE LUIZ M DOMINGUES                       NaN   \n",
      "20746  390299              AV DR NILO PECANHA        LG ALFREDO LE PERA   \n",
      "20747  390316            AV CRISTOVAO COLOMBO                       NaN   \n",
      "20748  390342         AV RODRIGUES DA FONSECA         R ATILIO SUPERTTI   \n",
      "20749  390273                         AV MAUA                       NaN   \n",
      "20750  390276  AV BALTAZAR DE OLIVEIRA GARCIA                       NaN   \n",
      "20751  390315    TUN NS DA CONCEICAO-ELEVADAS                       NaN   \n",
      "20752  390300              AV DR NILO PECANHA      AV GEN BARRETO VIANA   \n",
      "20753  390324           AV DR WALTER SO JOBIM                       NaN   \n",
      "20754  390275               AV PRAIA DE BELAS                       NaN   \n",
      "20755  390277             AV ANTONIO CARVALHO                       NaN   \n",
      "20756  390343          R DR CASTRO DE MENEZES      AV WENCESLAU ESCOBAR   \n",
      "20757  390279                  AV JOAO PESSOA                       NaN   \n",
      "\n",
      "       PREDIAL1       LOCAL      TIPO_ACID  \\\n",
      "0          1700  Logradouro         CHOQUE   \n",
      "1          6380  Logradouro        COLISAO   \n",
      "2          2319  Logradouro      CAPOTAGEM   \n",
      "3          1325  Logradouro         CHOQUE   \n",
      "4           376  Logradouro         CHOQUE   \n",
      "5          3835  Logradouro         CHOQUE   \n",
      "6           600  Logradouro         CHOQUE   \n",
      "7             0  Cruzamento   ABALROAMENTO   \n",
      "8          1856  Logradouro   ABALROAMENTO   \n",
      "9          5735  Logradouro       EVENTUAL   \n",
      "10        11900  Logradouro   ABALROAMENTO   \n",
      "11          200  Logradouro        COLISAO   \n",
      "12            0  Cruzamento        COLISAO   \n",
      "13            0  Cruzamento   ABALROAMENTO   \n",
      "14         3874  Logradouro        COLISAO   \n",
      "15            0  Cruzamento   ABALROAMENTO   \n",
      "16          110  Logradouro        COLISAO   \n",
      "17         1035  Logradouro   ABALROAMENTO   \n",
      "18          602  Logradouro        COLISAO   \n",
      "19          882  Logradouro   ABALROAMENTO   \n",
      "20            0  Cruzamento          QUEDA   \n",
      "21         2015  Logradouro   ABALROAMENTO   \n",
      "22         1207  Logradouro  ATROPELAMENTO   \n",
      "23         8585  Logradouro     TOMBAMENTO   \n",
      "24            0  Cruzamento        COLISAO   \n",
      "25         2516  Logradouro         CHOQUE   \n",
      "26          430  Logradouro   ABALROAMENTO   \n",
      "27            0  Cruzamento         CHOQUE   \n",
      "28           97  Logradouro        COLISAO   \n",
      "29         3877  Logradouro  ATROPELAMENTO   \n",
      "...         ...         ...            ...   \n",
      "20728       655  Logradouro  ATROPELAMENTO   \n",
      "20729         0  Cruzamento         CHOQUE   \n",
      "20730         0  Cruzamento   ABALROAMENTO   \n",
      "20731      1350  Logradouro   ABALROAMENTO   \n",
      "20732         0  Cruzamento   ABALROAMENTO   \n",
      "20733      4895  Logradouro        COLISAO   \n",
      "20734       820  Logradouro   ABALROAMENTO   \n",
      "20735      3319  Logradouro   ABALROAMENTO   \n",
      "20736      5783  Logradouro        COLISAO   \n",
      "20737         0  Cruzamento        COLISAO   \n",
      "20738         0  Cruzamento   ABALROAMENTO   \n",
      "20739      1520  Logradouro         CHOQUE   \n",
      "20740       220  Logradouro  ATROPELAMENTO   \n",
      "20741         0  Cruzamento   ABALROAMENTO   \n",
      "20742       599  Logradouro        COLISAO   \n",
      "20743      4078  Logradouro   ABALROAMENTO   \n",
      "20744         0  Cruzamento        COLISAO   \n",
      "20745       137  Logradouro   ABALROAMENTO   \n",
      "20746         0  Cruzamento   ABALROAMENTO   \n",
      "20747       404  Logradouro   ABALROAMENTO   \n",
      "20748         0  Cruzamento   ABALROAMENTO   \n",
      "20749      1095  Logradouro   ABALROAMENTO   \n",
      "20750      1061  Logradouro  ATROPELAMENTO   \n",
      "20751        93  Logradouro         CHOQUE   \n",
      "20752         0  Cruzamento   ABALROAMENTO   \n",
      "20753       570  Logradouro         CHOQUE   \n",
      "20754       731  Logradouro   ABALROAMENTO   \n",
      "20755      1515  Logradouro  ATROPELAMENTO   \n",
      "20756         0  Cruzamento        COLISAO   \n",
      "20757      1308  Logradouro  ATROPELAMENTO   \n",
      "\n",
      "                                             LOCAL_VIA       DATA_HORA  \\\n",
      "0                    1700 ESTR JOAO DE OLIVEIRA REMIAO  20050101 01:35   \n",
      "1                      6380 ESTR JOAO ANTONIO SILVEIRA  20050101 02:13   \n",
      "2                             2319 AV ANTONIO CARVALHO  20050101 03:43   \n",
      "3                              1325 AV BENTO GONCALVES  20050101 05:09   \n",
      "4                                          376 AV CHUI  20050101 05:20   \n",
      "5                                 3835 AV ASSIS BRASIL  20050101 07:05   \n",
      "6                               600 R GUILHERME SCHELL  20050101 11:50   \n",
      "7                   AV ASSIS BRASIL & R DOMINGOS RUBBO  20050101 12:30   \n",
      "8                             1856 AV ANTONIO CARVALHO  20050101 18:00   \n",
      "9                               5735 AV PROTASIO ALVES  20050101 20:15   \n",
      "10                               11900 AV ASSIS BRASIL  20050101 20:30   \n",
      "11                                       200 AV GOETHE  20050101 23:10   \n",
      "12                 R ANITA GARIBALDI & AV CARLOS GOMES  20050101 23:50   \n",
      "13                     AV IPIRANGA & R RAMIRO BARCELOS  20050102 06:30   \n",
      "14                                3874 AV DA CAVALHADA  20050102 13:44   \n",
      "15                  R DOMINGOS CRESCENCIO & R SAO LUIZ  20050102 17:15   \n",
      "16                        110 R CAPITAO CARLOS LAMARCA  20050102 22:00   \n",
      "17                                1035 ESTR COSTA GAMA  20050102 23:00   \n",
      "18                           602 AV JULIO DE CASTILHOS  20050103 01:20   \n",
      "19                                         882 R CAIRU  20050103 03:15   \n",
      "20                       AV JUCA BATISTA & R DR PITREZ  20050103 05:00   \n",
      "21                           2015 AV CRISTOVAO COLOMBO  20050103 05:20   \n",
      "22                                    1207 AV FARRAPOS  20050103 06:30   \n",
      "23                             8585 AV BENTO GONCALVES  20050103 07:06   \n",
      "24                             AV FARRAPOS & AV BRASIL  20050103 07:07   \n",
      "25                       2516 AV CEL LUCAS DE OLIVEIRA  20050103 07:30   \n",
      "26                              430 R SEIS DE NOVEMBRO  20050103 07:30   \n",
      "27         AV PROTASIO ALVES & ESTR MARTIM FELIX BERTA  20050103 08:10   \n",
      "28                                97 AV PINHEIRO BORDA  20050103 08:30   \n",
      "29                   3877 ESTR JOAO DE OLIVEIRA REMIAO  20050103 08:45   \n",
      "...                                                ...             ...   \n",
      "20728                           655 R GEN LIMA E SILVA  20051230 20:30   \n",
      "20729              AV SERTORIO & AV GEN RAPHAEL ZIPPIN  20051230 22:42   \n",
      "20730               R PADRE CHAGAS & R HILARIO RIBEIRO  20051230 23:30   \n",
      "20731                            1350 AV EDUARDO PRADO  20051231 04:00   \n",
      "20732           R DOMINGOS CRESCENCIO & R GOMES JARDIM  20051231 05:30   \n",
      "20733                          4895 AV BENTO GONCALVES  20051231 05:55   \n",
      "20734                                  820 AV FARRAPOS  20051231 06:00   \n",
      "20735                          3319 AV BENTO GONCALVES  20051231 08:00   \n",
      "20736                             5783 ESTR COSTA GAMA  20051231 12:30   \n",
      "20737                    R BOTAFOGO & R GONCALVES DIAS  20051231 13:30   \n",
      "20738  AV CRISTOVAO COLOMBO & R VISCONDE DO RIO BRANCO  20051231 13:40   \n",
      "20739                            1520 AV EDUARDO PRADO  20051231 14:30   \n",
      "20740                              220 PCA RUI BARBOSA  20051231 14:40   \n",
      "20741               AV ASSIS BRASIL & R DOMINGOS RUBBO  20051231 14:50   \n",
      "20742                               599 AV JOAO PESSOA  20051231 15:00   \n",
      "20743                           4078 AV PROTASIO ALVES  20051231 15:00   \n",
      "20744                           AV SERTORIO & AV POLAR  20051231 15:00   \n",
      "20745                     137 R JORGE LUIZ M DOMINGUES  20051231 15:30   \n",
      "20746          AV DR NILO PECANHA & LG ALFREDO LE PERA  20051231 15:45   \n",
      "20747                         404 AV CRISTOVAO COLOMBO  20051231 15:48   \n",
      "20748      AV RODRIGUES DA FONSECA & R ATILIO SUPERTTI  20051231 16:00   \n",
      "20749                                     1095 AV MAUA  20051231 16:00   \n",
      "20750              1061 AV BALTAZAR DE OLIVEIRA GARCIA  20051231 16:15   \n",
      "20751                     93 TUN DA CONCEICAO-ELEVADAS  20051231 16:22   \n",
      "20752        AV DR NILO PECANHA & AV GEN BARRETO VIANA  20051231 16:30   \n",
      "20753                        570 AV DR WALTER SO JOBIM  20051231 16:30   \n",
      "20754                            731 AV PRAIA DE BELAS  20051231 17:00   \n",
      "20755                         1515 AV ANTONIO CARVALHO  20051231 17:15   \n",
      "20756    R DR CASTRO DE MENEZES & AV WENCESLAU ESCOBAR  20051231 20:00   \n",
      "20757                              1308 AV JOAO PESSOA  20051231 21:30   \n",
      "\n",
      "             DIA_SEM  FERIDOS      ...       REGIAO  DIA  MES   ANO  FX_HORA  \\\n",
      "0             SABADO        2      ...        LESTE    1    1  2005        1   \n",
      "1             SABADO        2      ...          SUL    1    1  2005        2   \n",
      "2             SABADO        4      ...        LESTE    1    1  2005        3   \n",
      "3             SABADO        0      ...        LESTE    1    1  2005        5   \n",
      "4             SABADO        1      ...          SUL    1    1  2005        5   \n",
      "5             SABADO        1      ...        NORTE    1    1  2005        7   \n",
      "6             SABADO        0      ...        LESTE    1    1  2005       11   \n",
      "7             SABADO        0      ...        NORTE    1    1  2005       12   \n",
      "8             SABADO        1      ...        LESTE    1    1  2005       18   \n",
      "9             SABADO        0      ...        LESTE    1    1  2005       20   \n",
      "10            SABADO        2      ...        NORTE    1    1  2005       20   \n",
      "11            SABADO        1      ...        NORTE    1    1  2005       23   \n",
      "12            SABADO        0      ...        LESTE    1    1  2005       23   \n",
      "13           DOMINGO        0      ...        LESTE    2    1  2005        6   \n",
      "14           DOMINGO        0      ...          SUL    2    1  2005       13   \n",
      "15           DOMINGO        0      ...        LESTE    2    1  2005       17   \n",
      "16           DOMINGO        2      ...        LESTE    2    1  2005       22   \n",
      "17           DOMINGO        2      ...          SUL    2    1  2005       23   \n",
      "18     SEGUNDA-FEIRA        0      ...       CENTRO    3    1  2005        1   \n",
      "19     SEGUNDA-FEIRA        1      ...        NORTE    3    1  2005        3   \n",
      "20     SEGUNDA-FEIRA        1      ...          SUL    3    1  2005        5   \n",
      "21     SEGUNDA-FEIRA        2      ...        NORTE    3    1  2005        5   \n",
      "22     SEGUNDA-FEIRA        1      ...        NORTE    3    1  2005        6   \n",
      "23     SEGUNDA-FEIRA        1      ...        LESTE    3    1  2005        7   \n",
      "24     SEGUNDA-FEIRA        0      ...        NORTE    3    1  2005        7   \n",
      "25     SEGUNDA-FEIRA        0      ...        LESTE    3    1  2005        7   \n",
      "26     SEGUNDA-FEIRA        1      ...        LESTE    3    1  2005        7   \n",
      "27     SEGUNDA-FEIRA        0      ...        LESTE    3    1  2005        8   \n",
      "28     SEGUNDA-FEIRA        0      ...          SUL    3    1  2005        8   \n",
      "29     SEGUNDA-FEIRA        1      ...        LESTE    3    1  2005        8   \n",
      "...              ...      ...      ...          ...  ...  ...   ...      ...   \n",
      "20728    SEXTA-FEIRA        1      ...       CENTRO   30   12  2005       20   \n",
      "20729    SEXTA-FEIRA        0      ...        NORTE   30   12  2005       22   \n",
      "20730    SEXTA-FEIRA        0      ...        LESTE   30   12  2005       23   \n",
      "20731         SABADO        1      ...          SUL   31   12  2005        4   \n",
      "20732         SABADO        0      ...        LESTE   31   12  2005        5   \n",
      "20733         SABADO        1      ...        LESTE   31   12  2005        5   \n",
      "20734         SABADO        0      ...       CENTRO   31   12  2005        6   \n",
      "20735         SABADO        0      ...        LESTE   31   12  2005        8   \n",
      "20736         SABADO        1      ...          SUL   31   12  2005       12   \n",
      "20737         SABADO        0      ...          SUL   31   12  2005       13   \n",
      "20738         SABADO        0      ...        NORTE   31   12  2005       13   \n",
      "20739         SABADO        2      ...          SUL   31   12  2005       14   \n",
      "20740         SABADO        1      ...       CENTRO   31   12  2005       14   \n",
      "20741         SABADO        0      ...        NORTE   31   12  2005       14   \n",
      "20742         SABADO        0      ...       CENTRO   31   12  2005       15   \n",
      "20743         SABADO        1      ...        LESTE   31   12  2005       15   \n",
      "20744         SABADO        0      ...        NORTE   31   12  2005       15   \n",
      "20745         SABADO        0      ...        LESTE   31   12  2005       15   \n",
      "20746         SABADO        0      ...        LESTE   31   12  2005       15   \n",
      "20747         SABADO        0      ...       CENTRO   31   12  2005       15   \n",
      "20748         SABADO        0      ...          SUL   31   12  2005       16   \n",
      "20749         SABADO        1      ...       CENTRO   31   12  2005       16   \n",
      "20750         SABADO        1      ...        NORTE   31   12  2005       16   \n",
      "20751         SABADO        0      ...       CENTRO   31   12  2005       16   \n",
      "20752         SABADO        0      ...        LESTE   31   12  2005       16   \n",
      "20753         SABADO        0      ...        NORTE   31   12  2005       16   \n",
      "20754         SABADO        3      ...       CENTRO   31   12  2005       17   \n",
      "20755         SABADO        1      ...        LESTE   31   12  2005       17   \n",
      "20756         SABADO        0      ...          SUL   31   12  2005       20   \n",
      "20757         SABADO        1      ...       CENTRO   31   12  2005       21   \n",
      "\n",
      "       CONT_ACID  CONT_VIT  UPS      LATITUDE     LONGITUDE  \n",
      "0              1         1    5  -30,08736778  -51,13192036  \n",
      "1              1         1    5  -30,14424353   -51,1067495  \n",
      "2              1         1    5  -30,04767237   -51,1438485  \n",
      "3              1         0    1  -30,05463231   -51,1999294  \n",
      "4              1         1    5  -30,08343363  -51,24129168  \n",
      "5              1         1    5  -30,01053211   -51,1484486  \n",
      "6              1         0    1  -30,05782316  -51,20836759  \n",
      "7              1         0    1   -30,0106459  -51,15929074  \n",
      "8              1         1    5  -30,05367333  -51,14707169  \n",
      "9              1         0    1  -30,04154414  -51,15406147  \n",
      "10             1         1    5  -29,95969261  -51,11105681  \n",
      "11             1         1    5  -30,02627819  -51,19953467  \n",
      "12             1         0    1  -30,02557751  -51,18272143  \n",
      "13             1         0    1  -30,04387312  -51,20715022  \n",
      "14             1         0    1  -30,11030103  -51,22698519  \n",
      "15             1         0    1  -30,04785319  -51,20433728  \n",
      "16             1         1    5  -30,08827996  -51,12308727  \n",
      "17             1         1    5  -30,12251411  -51,17477583  \n",
      "18             1         0    1  -30,02416375  -51,22119689  \n",
      "19             1         1    5  -30,00518912  -51,19817011  \n",
      "20             1         1    5  -30,14604349  -51,21158091  \n",
      "21             1         1    5  -30,01808314  -51,20028946  \n",
      "22             1         1    5  -30,01998795  -51,21047365  \n",
      "23             1         1    5  -30,07598872  -51,13255108  \n",
      "24             1         0    1  -30,00532207  -51,20068014  \n",
      "25             1         0    1  -30,04478835  -51,19545409  \n",
      "26             1         1    5  -30,03323682  -51,11731978  \n",
      "27             1         0    1  -30,03828191  -51,11414287  \n",
      "28             1         0    1  -30,07491158  -51,24205847  \n",
      "29             1         1    5  -30,10245605  -51,12172962  \n",
      "...          ...       ...  ...           ...           ...  \n",
      "20728          1         1    5  -30,03878183  -51,22087126  \n",
      "20729          1         0    1  -30,00357749  -51,12756815  \n",
      "20730          1         0    1  -30,02561409  -51,20413771  \n",
      "20731          1         1    5  -30,13002929  -51,21840459  \n",
      "20732          1         0    1  -30,04859317  -51,20563632  \n",
      "20733          1         1    5  -30,06182598  -51,16722416  \n",
      "20734          1         0    1  -30,02287091  -51,21290775  \n",
      "20735          1         0    1  -30,06490269  -51,18257244  \n",
      "20736          1         1    5  -30,15605052  -51,16106451  \n",
      "20737          1         0    1   -30,0546039  -51,22076667  \n",
      "20738          1         0    1  -30,01825707  -51,20346251  \n",
      "20739          1         1    5   -30,1309763  -51,21807861  \n",
      "20740          1         1    5  -30,02677171    -51,224044  \n",
      "20741          1         0    1   -30,0106459  -51,15929074  \n",
      "20742          1         0    1  -30,03709485   -51,2195492  \n",
      "20743          1         1    5  -30,04074982  -51,17052666  \n",
      "20744          1         0    1  -29,99868584  -51,15949544  \n",
      "20745          1         0    1   -30,0721657  -51,18400065  \n",
      "20746          1         0    1   -30,0353415  -51,18559172  \n",
      "20747          1         0    1  -30,02624091  -51,21366885  \n",
      "20748          1         0    1  -30,11565935  -51,21183713  \n",
      "20749          1         1    5  -30,02746658  -51,23115311  \n",
      "20750          1         1    5  -30,01037441   -51,1330894  \n",
      "20751          1         0    1   -30,0262668  -51,21928292  \n",
      "20752          1         0    1  -30,02844499  -51,15872819  \n",
      "20753          1         0    1  -29,99944403  -51,15010334  \n",
      "20754          1         1    5  -30,04576173  -51,22741053  \n",
      "20755          1         1    5  -30,05510933  -51,14740173  \n",
      "20756          1         0    1  -30,10106656  -51,24926824  \n",
      "20757          1         1    5  -30,04265395  -51,21527429  \n",
      "\n",
      "[20758 rows x 37 columns]\n"
     ]
    }
   ],
   "source": [
    "import pandas as pd\n",
    "\n",
    "base = pd.read_csv('acidentes.csv', sep=';')\n",
    "print base"
   ]
  },
  {
   "cell_type": "code",
   "execution_count": 25,
   "metadata": {
    "collapsed": true
   },
   "outputs": [],
   "source": [
    "base['REGIAO'] = base['REGIAO'].astype('category')\n",
    "categories = base.select_dtypes(['category']).columns\n",
    "base[categories] = base[categories].apply(lambda x: x.cat.codes)"
   ]
  },
  {
   "cell_type": "code",
   "execution_count": 26,
   "metadata": {
    "collapsed": true
   },
   "outputs": [
    {
     "data": {
      "text/plain": [
       "0        1\n",
       "1        4\n",
       "2        1\n",
       "3        1\n",
       "4        4\n",
       "5        3\n",
       "6        1\n",
       "7        3\n",
       "8        1\n",
       "9        1\n",
       "10       3\n",
       "11       3\n",
       "12       1\n",
       "13       1\n",
       "14       4\n",
       "15       1\n",
       "16       1\n",
       "17       4\n",
       "18       0\n",
       "19       3\n",
       "20       4\n",
       "21       3\n",
       "22       3\n",
       "23       1\n",
       "24       3\n",
       "25       1\n",
       "26       1\n",
       "27       1\n",
       "28       4\n",
       "29       1\n",
       "        ..\n",
       "20728    0\n",
       "20729    3\n",
       "20730    1\n",
       "20731    4\n",
       "20732    1\n",
       "20733    1\n",
       "20734    0\n",
       "20735    1\n",
       "20736    4\n",
       "20737    4\n",
       "20738    3\n",
       "20739    4\n",
       "20740    0\n",
       "20741    3\n",
       "20742    0\n",
       "20743    1\n",
       "20744    3\n",
       "20745    1\n",
       "20746    1\n",
       "20747    0\n",
       "20748    4\n",
       "20749    0\n",
       "20750    3\n",
       "20751    0\n",
       "20752    1\n",
       "20753    3\n",
       "20754    0\n",
       "20755    1\n",
       "20756    4\n",
       "20757    0\n",
       "Name: REGIAO, dtype: int8"
      ]
     },
     "execution_count": 26,
     "metadata": {},
     "output_type": "execute_result"
    }
   ],
   "source": [
    "base['REGIAO']"
   ]
  },
  {
   "cell_type": "code",
   "execution_count": 27,
   "metadata": {
    "collapsed": false
   },
   "outputs": [
    {
     "name": "stdout",
     "output_type": "stream",
     "text": [
      "[[ 4.          2.        ]\n",
      " [ 6.          3.66666667]\n",
      " [ 7.          6.        ]]\n"
     ]
    }
   ],
   "source": [
    "import numpy as np\n",
    "from sklearn.preprocessing import Imputer\n",
    "\n",
    "\n",
    "imp = Imputer(missing_values='NaN', strategy='mean')\n",
    "imp.fit([[1, 2], [np.nan, 3], [7, 6]])\n",
    "\n",
    "\n",
    "X = [[np.nan, 2], [6, np.nan], [7, 6]]\n",
    "\n",
    "\n",
    "print(imp.transform(X))         "
   ]
  },
  {
   "cell_type": "code",
   "execution_count": 31,
   "metadata": {
    "collapsed": false
   },
   "outputs": [
    {
     "name": "stdout",
     "output_type": "stream",
     "text": [
      "[[ 0.         -1.22474487  1.33630621]\n",
      " [ 1.22474487  0.         -0.26726124]\n",
      " [-1.22474487  1.22474487 -1.06904497]]\n"
     ]
    }
   ],
   "source": [
    "from sklearn import preprocessing\n",
    "import numpy as np\n",
    "X = np.array([[ 1., -1.,  2.], [ 2.,  0.,  0.], [ 0.,  1., -1.]])\n",
    "X_scaled = preprocessing.scale(X)\n",
    "\n",
    "print X_scaled"
   ]
  },
  {
   "cell_type": "code",
   "execution_count": 58,
   "metadata": {
    "collapsed": false,
    "scrolled": true
   },
   "outputs": [
    {
     "name": "stderr",
     "output_type": "stream",
     "text": [
      "/home/ralph/anaconda2/lib/python2.7/site-packages/sklearn/utils/validation.py:420: DataConversionWarning: Data with input dtype object was converted to float64 by the scale function.\n",
      "  warnings.warn(msg, DataConversionWarning)\n"
     ]
    }
   ],
   "source": [
    "guaiba = pd.read_json('guaiba.json')\n",
    "guaiba['temperatura'] = guaiba['temperatura'].replace(to_replace='', value=0)\n",
    "# print guaiba['temperatura']\n",
    "\n",
    "X_scaled = preprocessing.scale(guaiba['temperatura'])\n",
    "# print X_scaled"
   ]
  },
  {
   "cell_type": "code",
   "execution_count": 44,
   "metadata": {
    "collapsed": false
   },
   "outputs": [
    {
     "data": {
      "text/plain": [
       "array([[ 1.,  0.,  0.],\n",
       "       [ 0.,  1.,  0.],\n",
       "       [ 0.,  0.,  1.]])"
      ]
     },
     "execution_count": 44,
     "metadata": {},
     "output_type": "execute_result"
    }
   ],
   "source": [
    "X = [[ 1., -1.,  2.], [ 2.,  0.,  0.], [ 0.,  1., -1.]]\n",
    "binarizer = preprocessing.Binarizer(threshold=0.0).fit(X) \n",
    "binarizer.transform(X)\n",
    "\n",
    "enc = preprocessing.OneHotEncoder() \n",
    "enc.fit([[0], [1], [2], [0]])   \n",
    "enc.transform([[0], [1], [2]]).toarray()\n"
   ]
  },
  {
   "cell_type": "code",
   "execution_count": 45,
   "metadata": {
    "collapsed": false
   },
   "outputs": [
    {
     "data": {
      "text/plain": [
       "array([1, 4, 3, 0, 2])"
      ]
     },
     "execution_count": 45,
     "metadata": {},
     "output_type": "execute_result"
    }
   ],
   "source": [
    "base['REGIAO'].unique()"
   ]
  },
  {
   "cell_type": "code",
   "execution_count": 59,
   "metadata": {
    "collapsed": false,
    "scrolled": true
   },
   "outputs": [],
   "source": [
    "# pd.get_dummies(base['REGIAO']) "
   ]
  },
  {
   "cell_type": "code",
   "execution_count": 64,
   "metadata": {
    "collapsed": false
   },
   "outputs": [
    {
     "data": {
      "image/png": "[encoded data removed]",
      "text/plain": [
       "<matplotlib.figure.Figure at 0x7f86d44ff190>"
      ]
     },
     "metadata": {},
     "output_type": "display_data"
    }
   ],
   "source": [
    "import matplotlib.pyplot as plt\n",
    "plt.hist(base['FERIDOS'])\n",
    "plt.show()"
   ]
  },
  {
   "cell_type": "code",
   "execution_count": null,
   "metadata": {
    "collapsed": true
   },
   "outputs": [],
   "source": []
  }
 ],
 "metadata": {
  "kernelspec": {
   "display_name": "Python [conda root]",
   "language": "python",
   "name": "conda-root-py"
  },
  "language_info": {
   "codemirror_mode": {
    "name": "ipython",
    "version": 2
   },
   "file_extension": ".py",
   "mimetype": "text/x-python",
   "name": "python",
   "nbconvert_exporter": "python",
   "pygments_lexer": "ipython2",
   "version": "2.7.12"
  }
 },
 "nbformat": 4,
 "nbformat_minor": 1
}
